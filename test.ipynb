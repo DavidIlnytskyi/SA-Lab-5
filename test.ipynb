{
 "cells": [
  {
   "cell_type": "code",
   "execution_count": null,
   "metadata": {},
   "outputs": [],
   "source": [
    "import consul\n",
    "import sys\n",
    "import uuid"
   ]
  },
  {
   "cell_type": "code",
   "execution_count": null,
   "metadata": {},
   "outputs": [],
   "source": [
    "def register_service(service_name, service_ip, service_port, consul_ip, consul_port):\n",
    "    consul_client = consul.Consul(host=consul_ip, port=consul_port)\n",
    "\n",
    "    service_id = f\"{service_name}-{str(uuid.uuid4())[:4]}\"\n",
    "\n",
    "    consul_client.agent.service.register(\n",
    "    name=service_name,\n",
    "    service_id=service_id,\n",
    "    address=service_ip,\n",
    "    port=service_port,\n",
    "    check=consul.Check.http(\n",
    "        url=f\"http://{service_ip}:{consul_ip}/health\",\n",
    "        interval=\"10s\",\n",
    "        timeout=\"1s\",\n",
    "        deregister=\"10m\"\n",
    "    )\n",
    ")"
   ]
  },
  {
   "cell_type": "code",
   "execution_count": null,
   "metadata": {},
   "outputs": [],
   "source": [
    "SERVICE_NAME = sys.argv[0][:-3]\n",
    "SERVICE_ID = f\"{SERVICE_NAME}-{str(uuid.uuid4())[:4]}\"\n",
    "\n",
    "CONSUL_IP = \"localhost\"\n",
    "CONSUL_PORT = 8500\n",
    "\n",
    "SERVICE_IP = \"host.docker.internal\"\n",
    "SERVICE_PORT = 5000"
   ]
  },
  {
   "cell_type": "code",
   "execution_count": null,
   "metadata": {},
   "outputs": [],
   "source": [
    "c = consul.Consul(host=CONSUL_IP, port=CONSUL_PORT)\n",
    "try:\n",
    "    leader = c.status.leader()\n",
    "    print(f\"Consul is available. Leader: {leader}\")\n",
    "except Exception as e:\n",
    "    print(f\"Failed to connect to Consul: {e}\")"
   ]
  },
  {
   "cell_type": "code",
   "execution_count": null,
   "metadata": {},
   "outputs": [],
   "source": [
    "register_service(SERVICE_NAME, SERVICE_IP, SERVICE_PORT, CONSUL_IP, CONSUL_PORT)"
   ]
  },
  {
   "cell_type": "markdown",
   "metadata": {},
   "source": [
    "### Get all services"
   ]
  },
  {
   "cell_type": "code",
   "execution_count": null,
   "metadata": {},
   "outputs": [
    {
     "name": "stdout",
     "output_type": "stream",
     "text": [
      "Service ID: messages_service.py-72ce\n",
      "Service Name: messages_service.py\n",
      "Service Address (IP): 127.0.0.1\n",
      "Service Port: 5008\n",
      "------------------------------\n",
      "Service ID: messages_service.py-8d5e\n",
      "Service Name: messages_service.py\n",
      "Service Address (IP): 127.0.0.1\n",
      "Service Port: 5007\n",
      "------------------------------\n",
      "Service ID: messages_service.py-8f40\n",
      "Service Name: messages_service.py\n",
      "Service Address (IP): 127.0.0.1\n",
      "Service Port: 5007\n",
      "------------------------------\n",
      "Service ID: messages_service.py-a9a9\n",
      "Service Name: messages_service.py\n",
      "Service Address (IP): 127.0.0.1\n",
      "Service Port: 5006\n",
      "------------------------------\n",
      "Service ID: messages_service.py-b761\n",
      "Service Name: messages_service.py\n",
      "Service Address (IP): 127.0.0.1\n",
      "Service Port: 5008\n",
      "------------------------------\n",
      "Service ID: messages_service.py-b7a6\n",
      "Service Name: messages_service.py\n",
      "Service Address (IP): 127.0.0.1\n",
      "Service Port: 5006\n",
      "------------------------------\n",
      "Service ID: messages_service.py-db4d\n",
      "Service Name: messages_service.py\n",
      "Service Address (IP): 127.0.0.1\n",
      "Service Port: 5007\n",
      "------------------------------\n"
     ]
    }
   ],
   "source": [
    "services = c.agent.services()\n",
    "for service_id, service_info in services.items():\n",
    "    res = c.agent.service.deregister(\"/home/stiro/.local/bin/uvic-4ca3\")\n",
    "    services = c.agent.services()\n",
    "    print(res)\n",
    "    # print(f\"Service ID: {service_id}\")\n",
    "    # print(f\"Service Name: {service_info['Service']}\")\n",
    "    # print(f\"Service Address (IP): {service_info['Address']}\")\n",
    "    # print(f\"Service Port: {service_info['Port']}\")\n",
    "    # print(\"-\" * 30)"
   ]
  },
  {
   "cell_type": "code",
   "execution_count": null,
   "metadata": {},
   "outputs": [],
   "source": [
    "res = c.agent.service.deregister(\"/home/stiro/.local/bin/uvic-4ca3\")\n",
    "services = c.agent.services()\n",
    "print(res)\n"
   ]
  },
  {
   "cell_type": "markdown",
   "metadata": {},
   "source": [
    "### Set a key"
   ]
  },
  {
   "cell_type": "code",
   "execution_count": null,
   "metadata": {},
   "outputs": [],
   "source": [
    "# Set a key\n",
    "key = 'a'\n",
    "value = 'b'\n",
    "\n",
    "c.kv.put(key, value)\n",
    "\n",
    "print(f\"Key '{key}' set successfully!\")"
   ]
  },
  {
   "cell_type": "markdown",
   "metadata": {},
   "source": [
    "### Get a key"
   ]
  },
  {
   "cell_type": "code",
   "execution_count": null,
   "metadata": {},
   "outputs": [],
   "source": [
    "index, data = c.kv.get('a')\n",
    "\n",
    "if data is not None:\n",
    "    value = data['Value'].decode('utf-8')  # Must decode from bytes\n",
    "    print(f\"Key value: {value}\")\n",
    "else:\n",
    "    print(\"Key not found.\")\n"
   ]
  }
 ],
 "metadata": {
  "kernelspec": {
   "display_name": "Python 3",
   "language": "python",
   "name": "python3"
  },
  "language_info": {
   "codemirror_mode": {
    "name": "ipython",
    "version": 3
   },
   "file_extension": ".py",
   "mimetype": "text/x-python",
   "name": "python",
   "nbconvert_exporter": "python",
   "pygments_lexer": "ipython3",
   "version": "3.10.12"
  }
 },
 "nbformat": 4,
 "nbformat_minor": 2
}
