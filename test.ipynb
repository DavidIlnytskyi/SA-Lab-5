{
 "cells": [
  {
   "cell_type": "code",
   "execution_count": 2,
   "metadata": {},
   "outputs": [],
   "source": [
    "import consul\n",
    "import sys\n",
    "import uuid"
   ]
  },
  {
   "cell_type": "code",
   "execution_count": 3,
   "metadata": {},
   "outputs": [],
   "source": [
    "def register_service(service_name, service_ip, service_port, consul_ip, consul_port):\n",
    "    consul_client = consul.Consul(host=consul_ip, port=consul_port)\n",
    "\n",
    "    service_id = f\"{service_name}-{str(uuid.uuid4())[:4]}\"\n",
    "\n",
    "    consul_client.agent.service.register(\n",
    "    name=service_name,\n",
    "    service_id=service_id,\n",
    "    address=service_ip,\n",
    "    port=service_port,\n",
    "    check=consul.Check.http(\n",
    "        url=f\"http://{service_ip}:{consul_ip}/health\",\n",
    "        interval=\"10s\",\n",
    "        timeout=\"1s\",\n",
    "        deregister=\"10m\"\n",
    "    )\n",
    ")"
   ]
  },
  {
   "cell_type": "code",
   "execution_count": 5,
   "metadata": {},
   "outputs": [],
   "source": [
    "SERVICE_NAME = sys.argv[0][:-3]\n",
    "SERVICE_ID = f\"{SERVICE_NAME}-{str(uuid.uuid4())[:4]}\"\n",
    "\n",
    "CONSUL_IP = \"localhost\"\n",
    "CONSUL_PORT = 8500\n",
    "\n",
    "SERVICE_IP = \"host.docker.internal\"\n",
    "SERVICE_PORT = 5000"
   ]
  },
  {
   "cell_type": "code",
   "execution_count": null,
   "metadata": {},
   "outputs": [
    {
     "name": "stdout",
     "output_type": "stream",
     "text": [
      "Consul is available. Leader: 127.0.0.1:8300\n"
     ]
    }
   ],
   "source": [
    "consul_client = consul.Consul(host=CONSUL_IP, port=CONSUL_PORT)\n",
    "try:\n",
    "    leader = c.status.leader()\n",
    "    print(f\"Consul is available. Leader: {leader}\")\n",
    "except Exception as e:\n",
    "    print(f\"Failed to connect to Consul: {e}\")"
   ]
  },
  {
   "cell_type": "code",
   "execution_count": null,
   "metadata": {},
   "outputs": [],
   "source": [
    "register_service(SERVICE_NAME, SERVICE_IP, SERVICE_PORT, CONSUL_IP, CONSUL_PORT)"
   ]
  },
  {
   "cell_type": "markdown",
   "metadata": {},
   "source": [
    "### Get all services"
   ]
  },
  {
   "cell_type": "code",
   "execution_count": 7,
   "metadata": {},
   "outputs": [
    {
     "name": "stdout",
     "output_type": "stream",
     "text": [
      "Service ID: facade_service.py-ccf6\n",
      "Service Name: facade_service.py\n",
      "Service Address (IP): 127.0.0.1\n",
      "Service Port: 5004\n",
      "------------------------------\n",
      "Service ID: logging_service.py-8f0e\n",
      "Service Name: logging_service.py\n",
      "Service Address (IP): 127.0.0.1\n",
      "Service Port: 5002\n",
      "------------------------------\n",
      "Service ID: logging_service.py-94a6\n",
      "Service Name: logging_service.py\n",
      "Service Address (IP): 127.0.0.1\n",
      "Service Port: 5001\n",
      "------------------------------\n",
      "Service ID: logging_service.py-ebc6\n",
      "Service Name: logging_service.py\n",
      "Service Address (IP): 127.0.0.1\n",
      "Service Port: 5003\n",
      "------------------------------\n",
      "Service ID: messages_service.py-29a5\n",
      "Service Name: messages_service.py\n",
      "Service Address (IP): 127.0.0.1\n",
      "Service Port: 5007\n",
      "------------------------------\n"
     ]
    }
   ],
   "source": [
    "services = c.agent.services()\n",
    "for service_id, service_info in services.items():\n",
    "    print(f\"Service ID: {service_id}\")\n",
    "    print(f\"Service Name: {service_info['Service']}\")\n",
    "    print(f\"Service Address (IP): {service_info['Address']}\")\n",
    "    print(f\"Service Port: {service_info['Port']}\")\n",
    "    print(\"-\" * 30)"
   ]
  },
  {
   "cell_type": "code",
   "execution_count": 31,
   "metadata": {},
   "outputs": [],
   "source": [
    "services = c.agent.services()\n",
    "def get_service_ips_consul(service_name: str):\n",
    "    service_name = service_name.replace(\"-\", \"_\")\n",
    "    result_ips = []\n",
    "\n",
    "    for service_id, service_info in services.items():\n",
    "        if service_name == service_info[\"Service\"][:-3]:\n",
    "            result_ips.append(f\"{service_info['Address']}:{service_info['Port']}\")\n",
    "\n",
    "    return result_ips"
   ]
  },
  {
   "cell_type": "code",
   "execution_count": 33,
   "metadata": {},
   "outputs": [
    {
     "name": "stdout",
     "output_type": "stream",
     "text": [
      "['127.0.0.1:5007']\n"
     ]
    }
   ],
   "source": [
    "print(get_service_ips_consul(\"messages-service\"))\n"
   ]
  },
  {
   "cell_type": "markdown",
   "metadata": {},
   "source": [
    "### Set a key"
   ]
  },
  {
   "cell_type": "code",
   "execution_count": null,
   "metadata": {},
   "outputs": [],
   "source": [
    "# Set a key\n",
    "key = 'a'\n",
    "value = 'b'\n",
    "\n",
    "c.kv.put(key, value)\n",
    "\n",
    "print(f\"Key '{key}' set successfully!\")"
   ]
  },
  {
   "cell_type": "markdown",
   "metadata": {},
   "source": [
    "### Get a key"
   ]
  },
  {
   "cell_type": "code",
   "execution_count": null,
   "metadata": {},
   "outputs": [],
   "source": [
    "index, data = c.kv.get('a')\n",
    "\n",
    "if data is not None:\n",
    "    value = data['Value'].decode('utf-8')  # Must decode from bytes\n",
    "    print(f\"Key value: {value}\")\n",
    "else:\n",
    "    print(\"Key not found.\")\n"
   ]
  },
  {
   "cell_type": "code",
   "execution_count": null,
   "metadata": {},
   "outputs": [
    {
     "name": "stdout",
     "output_type": "stream",
     "text": [
      "messages\n",
      "b'messages_group'\n"
     ]
    }
   ],
   "source": [
    "import json\n",
    "import consul\n",
    "consul_client = consul.Consul(host=CONSUL_IP, port=CONSUL_PORT)\n",
    "\n",
    "def get_value(key, default=None, deserialize_json=False, cast_type=None):\n",
    "    _, data = consul_client.kv.get(key)\n",
    "    if not data or \"Value\" not in data:\n",
    "        return default\n",
    "    value = data[\"Value\"]\n",
    "    if deserialize_json:\n",
    "        value = json.loads(value)\n",
    "    if cast_type:\n",
    "        value = cast_type(value)\n",
    "    return value\n",
    "\n",
    "print(get_value(\"topic_name\").decode(\"utf-8\"))\n",
    "print(get_value(\"group_id\").decode(\"utf-8\"))\n",
    "kafka_urls = get_value(\"kafka_urls\", deserialize_json=True)\n",
    "auto_offset_reset_value = get_value(\"auto_offset_reset\")\n",
    "enable_auto_commit_value = get_value(\"enable_auto_commit\", deserialize_json=True)\n",
    "api_version = tuple(get_value(\"api_version\", deserialize_json=True))\n",
    "request_timeout_ms = get_value(\"request_timeout_ms\", cast_type=int)\n"
   ]
  }
 ],
 "metadata": {
  "kernelspec": {
   "display_name": "Python 3",
   "language": "python",
   "name": "python3"
  },
  "language_info": {
   "codemirror_mode": {
    "name": "ipython",
    "version": 3
   },
   "file_extension": ".py",
   "mimetype": "text/x-python",
   "name": "python",
   "nbconvert_exporter": "python",
   "pygments_lexer": "ipython3",
   "version": "3.10.12"
  }
 },
 "nbformat": 4,
 "nbformat_minor": 2
}
